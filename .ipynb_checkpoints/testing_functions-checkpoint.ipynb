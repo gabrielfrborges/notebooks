{
 "cells": [
  {
   "cell_type": "code",
   "execution_count": 8,
   "metadata": {},
   "outputs": [],
   "source": [
    "def soma(x, y):\n",
    "    return x+y"
   ]
  },
  {
   "cell_type": "code",
   "execution_count": 2,
   "metadata": {},
   "outputs": [],
   "source": [
    "def diff(x,y):\n",
    "    return abs(x-y)"
   ]
  },
  {
   "cell_type": "code",
   "execution_count": 31,
   "metadata": {},
   "outputs": [],
   "source": [
    "def mdc(x, y):\n",
    "    if x == 0 or y == 0: return max(x,y) \n",
    "    while(y):\n",
    "        x, y = y, x%y\n",
    "    return x"
   ]
  },
  {
   "cell_type": "code",
   "execution_count": 17,
   "metadata": {},
   "outputs": [],
   "source": [
    "def validate(func, expected, *args):\n",
    "    return '1' if func(*args) == expected else '0'"
   ]
  },
  {
   "cell_type": "code",
   "execution_count": 42,
   "metadata": {},
   "outputs": [],
   "source": [
    "def test_soma():\n",
    "    result = ''\n",
    "    result += validate(soma, 4, 1, 3)\n",
    "    result += validate(soma, 5, 0, 5)\n",
    "    result += validate(soma, 0, 5, -5)\n",
    "    result += validate(soma, -3, -1, -2)\n",
    "    result += validate(soma, 4, 0b10, 0b10)\n",
    "    return soma.__name__+' '+result"
   ]
  },
  {
   "cell_type": "code",
   "execution_count": 48,
   "metadata": {},
   "outputs": [],
   "source": [
    "def test_diff():\n",
    "    result = ''\n",
    "    result += validate(diff, 2, 1, 3)\n",
    "    result += validate(diff, 5, 0, 5)\n",
    "    result += validate(diff, 10, 5, -5)\n",
    "    result += validate(diff, 1, -1, -2)\n",
    "    result += validate(diff, 2 0b11, 0b1)\n",
    "    return diff.__name__+' '+result"
   ]
  },
  {
   "cell_type": "code",
   "execution_count": 41,
   "metadata": {},
   "outputs": [],
   "source": [
    "def test_mdc():\n",
    "    result = ''\n",
    "    result += validate(mdc, 3, 6, 9)\n",
    "    result += validate(mdc, 5, 0, 5)\n",
    "    result += validate(mdc, 5, 5, 0)\n",
    "    result += validate(mdc, 128, 1024, 128)\n",
    "    result += validate(mdc, 6, 0b110, 0b1100)\n",
    "    return mdc.__name__+' '+result"
   ]
  },
  {
   "cell_type": "code",
   "execution_count": 50,
   "metadata": {},
   "outputs": [],
   "source": [
    "def all_tests():\n",
    "    print(test_soma())\n",
    "    print(test_diff())\n",
    "    print(test_mdc())"
   ]
  },
  {
   "cell_type": "code",
   "execution_count": 52,
   "metadata": {},
   "outputs": [
    {
     "name": "stdout",
     "output_type": "stream",
     "text": [
      "soma 11111\n",
      "diff 11110\n",
      "mdc 11111\n",
      "2\n"
     ]
    }
   ],
   "source": [
    "all_tests()\n",
    "print(diff(0b11, 0b1))"
   ]
  },
  {
   "cell_type": "code",
   "execution_count": null,
   "metadata": {},
   "outputs": [],
   "source": []
  }
 ],
 "metadata": {
  "kernelspec": {
   "display_name": "Python 3",
   "language": "python",
   "name": "python3"
  },
  "language_info": {
   "codemirror_mode": {
    "name": "ipython",
    "version": 3
   },
   "file_extension": ".py",
   "mimetype": "text/x-python",
   "name": "python",
   "nbconvert_exporter": "python",
   "pygments_lexer": "ipython3",
   "version": "3.6.8"
  }
 },
 "nbformat": 4,
 "nbformat_minor": 2
}
